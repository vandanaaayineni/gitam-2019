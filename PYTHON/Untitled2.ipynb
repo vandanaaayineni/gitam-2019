{
 "cells": [
  {
   "cell_type": "code",
   "execution_count": 4,
   "metadata": {},
   "outputs": [
    {
     "name": "stdout",
     "output_type": "stream",
     "text": [
      "90\n"
     ]
    }
   ],
   "source": [
    "def printEven(n):\n",
    "    cnt=0;\n",
    "    sum=0;\n",
    "    while(cnt!=n):\n",
    "        if(cnt%2==0):\n",
    "            sum=sum+cnt;\n",
    "        cnt=cnt+1;\n",
    "    return sum;\n",
    "print(printEven(20));"
   ]
  },
  {
   "cell_type": "markdown",
   "metadata": {},
   "source": [
    "## example function\n",
    "## test cases:\n",
    "## 12.."
   ]
  },
  {
   "cell_type": "code",
   "execution_count": 5,
   "metadata": {},
   "outputs": [
    {
     "name": "stdout",
     "output_type": "stream",
     "text": [
      "1 2 3 4 6 "
     ]
    }
   ],
   "source": [
    "def factorsList(n):\n",
    "    i=1;\n",
    "    while(i!=n):\n",
    "        if(n%i==0):\n",
    "            print(i,end=\" \");\n",
    "        i=i+1;\n",
    "    return;\n",
    "factorsList(12);"
   ]
  },
  {
   "cell_type": "markdown",
   "metadata": {},
   "source": [
    "## List in python\n",
    "## List can be written in python with square brackets and each item in the list separated by comma operator----[item1,item2,-----itemn]\n",
    "## list can be anything-----int,char,float,string,etc\n",
    "## example of list\n",
    "## list1=[1,2,3,4]\n",
    "## list2=[\"a\",\"b\"]\n",
    "## list3=[\"maths\",\"physics\"]"
   ]
  },
  {
   "cell_type": "code",
   "execution_count": 7,
   "metadata": {},
   "outputs": [
    {
     "name": "stdout",
     "output_type": "stream",
     "text": [
      "[1, 2, 3, 4, 5]\n",
      "1\n"
     ]
    }
   ],
   "source": [
    "list1=[1,2,3,4,5];\n",
    "#enter list\n",
    "print(list1);\n",
    "#list[0]\n",
    "print(list1[0]);"
   ]
  },
  {
   "cell_type": "code",
   "execution_count": 8,
   "metadata": {},
   "outputs": [
    {
     "name": "stdout",
     "output_type": "stream",
     "text": [
      "['vandana', 'ayineni']\n",
      "vandana\n"
     ]
    }
   ],
   "source": [
    "list2=[\"vandana\",\"ayineni\"];\n",
    "#enter list\n",
    "print(list2);\n",
    "#list[1]\n",
    "print(list2[0]);"
   ]
  },
  {
   "cell_type": "code",
   "execution_count": 11,
   "metadata": {},
   "outputs": [
    {
     "name": "stdout",
     "output_type": "stream",
     "text": [
      "1 2 3 4 5 6 \n",
      "[2, 3, 4, 5]\n",
      "[3, 4]\n",
      "[]\n",
      "[]\n",
      "[]\n",
      "[1, 3, 5]\n",
      "[1, 4]\n",
      "[1, 5]\n",
      "[6, 4, 2]\n",
      "[6, 3]\n",
      "[6, 2]\n",
      "[6, 1]\n"
     ]
    }
   ],
   "source": [
    "list1=[1,2,3,4,5,6]\n",
    "for x in list1:\n",
    "    print(x,end=\" \");\n",
    "    \n",
    "print();\n",
    "print(list1[1:-1]);\n",
    "print(list1[2:-2]);\n",
    "print(list1[3:-3]);\n",
    "print(list1[4:-4]);\n",
    "print(list1[5:-5]);\n",
    "print(list1[::2]);\n",
    "print(list1[::3]);\n",
    "print(list1[::4]);\n",
    "print(list1[::-2]);\n",
    "print(list1[::-3]);\n",
    "print(list1[::-4]);\n",
    "print(list1[::-5]);"
   ]
  },
  {
   "cell_type": "code",
   "execution_count": 14,
   "metadata": {},
   "outputs": [
    {
     "name": "stdout",
     "output_type": "stream",
     "text": [
      "['vandana', 'ayineni', 1]\n",
      "['vandana', 'ayineni', 15]\n",
      "['vandana', 'ayineni', 15]\n",
      "['vandana', 'gitam', 15]\n",
      "[1, 2, 3]\n",
      "['vandana', 'gitam', 15, 1, 2, 3]\n"
     ]
    }
   ],
   "source": [
    "lst1=[\"vandana\",\"ayineni\",1];\n",
    "print(lst1);\n",
    "lst1[2]=15;\n",
    "print(lst1);\n",
    "lst1[2];\n",
    "print(lst1);\n",
    "lst1[1]=\"gitam\";\n",
    "print(lst1);\n",
    "lst2=[1,2,3];\n",
    "print(lst2);\n",
    "print(lst1+lst2);"
   ]
  },
  {
   "cell_type": "code",
   "execution_count": 15,
   "metadata": {},
   "outputs": [
    {
     "name": "stdout",
     "output_type": "stream",
     "text": [
      "['gitam', 'python', 'raptor', 1, 5, 'python', 'python']\n",
      "['gitam', 'raptor', 1, 5, 'python', 'python']\n",
      "['python', 'python', 5, 1, 'raptor', 'gitam']\n"
     ]
    }
   ],
   "source": [
    "list1=[\"gitam\",\"python\",\"raptor\",1,5,\"python\",\"python\"]\n",
    "print(list1)\n",
    "list1.remove(\"python\")\n",
    "print(list1)\n",
    "\n",
    "list1.reverse()\n",
    "print(list1)"
   ]
  },
  {
   "cell_type": "code",
   "execution_count": 29,
   "metadata": {},
   "outputs": [
    {
     "name": "stdout",
     "output_type": "stream",
     "text": [
      "Target item is found\n"
     ]
    }
   ],
   "source": [
    "def linearsearch(a,tarItem):\n",
    "    flag=0;\n",
    "    for i in range(len(a)):\n",
    "        if a[i] == tarItem:\n",
    "            flag=1;\n",
    "            break\n",
    "    if(flag!=0):\n",
    "        print(\"Target item is found\")\n",
    "    else:\n",
    "        print(\"Target item is not found\")\n",
    "a=[9,7,3,8,2]\n",
    "linearsearch(a,9)"
   ]
  },
  {
   "cell_type": "code",
   "execution_count": 34,
   "metadata": {},
   "outputs": [
    {
     "name": "stdout",
     "output_type": "stream",
     "text": [
      "0\n"
     ]
    }
   ],
   "source": [
    "def linearsearch(a,tarItem):\n",
    "    flag=0;\n",
    "    for i in range(len(a)):\n",
    "        if a[i] == tarItem:\n",
    "            flag=flag+1\n",
    "                     \n",
    "    print(flag)\n",
    "    \n",
    "a=[1,2,3,4,5,6,7,8,3,3]\n",
    "linearsearch(a,9)"
   ]
  },
  {
   "cell_type": "code",
   "execution_count": 35,
   "metadata": {},
   "outputs": [
    {
     "name": "stdout",
     "output_type": "stream",
     "text": [
      "3 "
     ]
    }
   ],
   "source": [
    "def linearsearch(a,tarItem):\n",
    "    for i in range(len(a)):\n",
    "        if a[i]==tarItem:\n",
    "            print(i,end=\" \")\n",
    "a=[2,15,7,4,9,2,8]\n",
    "linearsearch(a,4)"
   ]
  },
  {
   "cell_type": "code",
   "execution_count": 37,
   "metadata": {},
   "outputs": [
    {
     "name": "stdout",
     "output_type": "stream",
     "text": [
      "! !  ! ! ! ! !  ! ! ! ! ! ! !  "
     ]
    }
   ],
   "source": [
    "def linearexample2(a,tarItem):\n",
    "    for i in range(len(a)):\n",
    "        if a[i]==tarItem:\n",
    "            j=0\n",
    "            while j!=i+1:\n",
    "                print(\"!\",end=\" \")\n",
    "                j=j+1\n",
    "            print(end=\" \")\n",
    "\n",
    "a=[1,5,3,2,5,21,5,9]\n",
    "linearexample2(a,5)"
   ]
  },
  {
   "cell_type": "code",
   "execution_count": 40,
   "metadata": {},
   "outputs": [
    {
     "name": "stdout",
     "output_type": "stream",
     "text": [
      "enter a number12345\n",
      "[1, 2, 3, 4, 5]\n"
     ]
    }
   ],
   "source": [
    " def numberToListConversion(n):\n",
    "        lst=[]\n",
    "        while n!=0:\n",
    "            r=n%10\n",
    "            lst.append(r)\n",
    "            n=n//10\n",
    "        lst.reverse()\n",
    "        print(lst)\n",
    "\n",
    "n=int(input(\"enter a number\"))\n",
    "numberToListConversion(n)\n",
    "        "
   ]
  },
  {
   "cell_type": "code",
   "execution_count": null,
   "metadata": {},
   "outputs": [],
   "source": [
    " "
   ]
  }
 ],
 "metadata": {
  "kernelspec": {
   "display_name": "Python 3",
   "language": "python",
   "name": "python3"
  },
  "language_info": {
   "codemirror_mode": {
    "name": "ipython",
    "version": 3
   },
   "file_extension": ".py",
   "mimetype": "text/x-python",
   "name": "python",
   "nbconvert_exporter": "python",
   "pygments_lexer": "ipython3",
   "version": "3.7.1"
  }
 },
 "nbformat": 4,
 "nbformat_minor": 2
}
