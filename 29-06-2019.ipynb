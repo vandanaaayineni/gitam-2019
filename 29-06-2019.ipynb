{
 "cells": [
  {
   "cell_type": "code",
   "execution_count": 1,
   "metadata": {},
   "outputs": [
    {
     "name": "stdout",
     "output_type": "stream",
     "text": [
      "0    1\n",
      "1    3\n",
      "2    4\n",
      "3    5\n",
      "4    6\n",
      "5    7\n",
      "dtype: int64\n"
     ]
    }
   ],
   "source": [
    "# create a series by passing a list of values\n",
    "\n",
    "import pandas as pd\n",
    "a = pd.Series([1,3,4,5,6,7])\n",
    "print(a)"
   ]
  },
  {
   "cell_type": "code",
   "execution_count": 2,
   "metadata": {},
   "outputs": [
    {
     "name": "stdout",
     "output_type": "stream",
     "text": [
      "0    1.0\n",
      "1    2.0\n",
      "2    3.0\n",
      "3    4.0\n",
      "4    NaN\n",
      "5    6.0\n",
      "dtype: float64\n"
     ]
    }
   ],
   "source": [
    "# Missing values then it can be nan of numpy\n",
    "import numpy as np\n",
    "a1=pd.Series([1,2,3,4,np.nan,6])\n",
    "print(a1)"
   ]
  },
  {
   "cell_type": "code",
   "execution_count": 3,
   "metadata": {},
   "outputs": [
    {
     "name": "stdout",
     "output_type": "stream",
     "text": [
      "DatetimeIndex(['2019-06-01', '2019-06-02', '2019-06-03', '2019-06-04',\n",
      "               '2019-06-05', '2019-06-06', '2019-06-07', '2019-06-08',\n",
      "               '2019-06-09', '2019-06-10'],\n",
      "              dtype='datetime64[ns]', freq='D')\n"
     ]
    }
   ],
   "source": [
    "# create a list of dates with in particular range\n",
    "\n",
    "dates = pd.date_range('20190601',periods=10)\n",
    "print(dates)\n"
   ]
  },
  {
   "cell_type": "code",
   "execution_count": 4,
   "metadata": {},
   "outputs": [
    {
     "name": "stdout",
     "output_type": "stream",
     "text": [
      "     A          B    C  D      E    F\n",
      "0  1.0 2019-06-01  1.0  3   test  foo\n",
      "1  1.0 2019-06-01  1.0  3  train  foo\n",
      "2  1.0 2019-06-01  1.0  3   test  foo\n",
      "3  1.0 2019-06-01  1.0  3  train  foo\n"
     ]
    }
   ],
   "source": [
    "a3 = pd.DataFrame({'A':1.,\n",
    "                  'B':pd.Timestamp('20190601'),\n",
    "                  'C':pd.Series(1,index=list(range(4)),dtype='float32'),\n",
    "                  'D':np.array([3]*4,dtype='int32'),\n",
    "                  'E':pd.Categorical([\"test\",\"train\",\"test\",\"train\"]),\n",
    "                  'F':'foo'})\n",
    "print(a3)"
   ]
  },
  {
   "cell_type": "markdown",
   "metadata": {},
   "source": [
    "### Turtle is a python feature like a drawing board\n",
    "### Lines Squares,Star,Rect and etc\n",
    "### Turtle() -- It creates and returns a new turtle object"
   ]
  },
  {
   "cell_type": "code",
   "execution_count": 5,
   "metadata": {},
   "outputs": [],
   "source": [
    "# Step 1: Make all the \"turtle\" package to be imported\n",
    "import turtle as tt\n",
    "# Turtle method creates and returns the new object\n",
    "a1 = tt.Turtle()\n",
    "# Forward() method moves 100 pixels\n",
    "tt.forward(100)\n",
    "# We are done\n",
    "tt.done()"
   ]
  },
  {
   "cell_type": "code",
   "execution_count": null,
   "metadata": {},
   "outputs": [],
   "source": []
  }
 ],
 "metadata": {
  "kernelspec": {
   "display_name": "Python 3",
   "language": "python",
   "name": "python3"
  },
  "language_info": {
   "codemirror_mode": {
    "name": "ipython",
    "version": 3
   },
   "file_extension": ".py",
   "mimetype": "text/x-python",
   "name": "python",
   "nbconvert_exporter": "python",
   "pygments_lexer": "ipython3",
   "version": "3.7.1"
  }
 },
 "nbformat": 4,
 "nbformat_minor": 2
}
