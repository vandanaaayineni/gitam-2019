{
 "cells": [
  {
   "cell_type": "markdown",
   "metadata": {},
   "source": [
    "# introdution to oop python\n",
    "### one of the popular approach to solve a programming problem by creating an objects,this is known as object oriented programming\n",
    "## An object as two characterstics:\n",
    "### 1.Inheritence\n",
    "### 2.Encapsulation\n",
    "### 3.Ploymorphism\n",
    "\n",
    "## class:\n",
    "### A class is blueprint for the object or logical entity\n",
    "\n",
    "## object:\n",
    "### Blueprint of class or instance of the class or physical entity\n",
    "\n",
    "## methods:\n",
    "### part of class and can be called with "
   ]
  },
  {
   "cell_type": "code",
   "execution_count": 1,
   "metadata": {},
   "outputs": [
    {
     "name": "stdout",
     "output_type": "stream",
     "text": [
      "test() for function\n"
     ]
    }
   ],
   "source": [
    "def test():\n",
    "    print('test() for function')\n",
    "    return\n",
    "test()"
   ]
  },
  {
   "cell_type": "code",
   "execution_count": 3,
   "metadata": {},
   "outputs": [
    {
     "name": "stdout",
     "output_type": "stream",
     "text": [
      "test()for the class and method\n"
     ]
    }
   ],
   "source": [
    "class Demo:\n",
    "    def test(self):\n",
    "        print(\"test()for the class and method\")\n",
    "        return\n",
    "obj = Demo()\n",
    "obj.test()"
   ]
  },
  {
   "cell_type": "code",
   "execution_count": 4,
   "metadata": {},
   "outputs": [
    {
     "data": {
      "text/plain": [
       "120"
      ]
     },
     "execution_count": 4,
     "metadata": {},
     "output_type": "execute_result"
    }
   ],
   "source": [
    "class Demo1:\n",
    "    def fact(self,n):\n",
    "        fact = 1\n",
    "        while(n!=0):\n",
    "            fact = fact*n\n",
    "            n = n-1\n",
    "        return fact\n",
    "p1=Demo1()\n",
    "p1.fact(5)\n",
    "        "
   ]
  },
  {
   "cell_type": "code",
   "execution_count": 13,
   "metadata": {},
   "outputs": [
    {
     "name": "stdout",
     "output_type": "stream",
     "text": [
      "300\n"
     ]
    }
   ],
   "source": [
    "class Demo2:\n",
    "    def __init__(self,p1,p2):\n",
    "        self.p1 = p1\n",
    "        self.p2 = p2\n",
    "    def add(self,p1,p2):\n",
    "        return p1+p2\n",
    "c1 = Demo2(10,20)\n",
    "print(c1.add(100,200))        "
   ]
  },
  {
   "cell_type": "code",
   "execution_count": 15,
   "metadata": {},
   "outputs": [
    {
     "name": "stdout",
     "output_type": "stream",
     "text": [
      "p1 = 10\n",
      "p2 = 20\n"
     ]
    }
   ],
   "source": [
    "class Demo2:\n",
    "    def accept(self,p1,p2):\n",
    "        a = p1\n",
    "        b = p2\n",
    "        return\n",
    "    def display(self,p1,p2):\n",
    "        print(\"p1 =\",p1)\n",
    "        print(\"p2 =\",p2)\n",
    "c1 = Demo2()\n",
    "c1.accept(10,20)\n",
    "c1.display(10,20)"
   ]
  },
  {
   "cell_type": "markdown",
   "metadata": {},
   "source": [
    "## pandas basics\n",
    "python is one of the popular programming language for data analysis <br>\n",
    "python is offering the lib called pandas used for importing and analaysing pretty much faster and easier\n",
    "\n",
    " pandas data for"
   ]
  },
  {
   "cell_type": "code",
   "execution_count": 22,
   "metadata": {},
   "outputs": [
    {
     "name": "stdout",
     "output_type": "stream",
     "text": [
      "        Name                email  mobile number address\n",
      "0    vandana  vandana.a@gmail.com             12     hyd\n",
      "1      laxmi    laxmi.a@gmail.com             34     hyd\n",
      "2    vamshee  vamshee.a@gmail.com             56     hyd\n",
      "3  venkatesh    avrao.a@gmail.com             78     hyd\n",
      "4        sai      sai.r@gmail.com             90     hyd\n",
      "5       akku     akku.m@gmail.com             91     hyd\n"
     ]
    }
   ],
   "source": [
    "import pandas as pd\n",
    "dict = {\"Name\":[\"vandana\",\"laxmi\",\"vamshee\",\"venkatesh\",\"sai\",\"akku\"],\n",
    "        \"email\" : [\"vandana.a@gmail.com\",\"laxmi.a@gmail.com\",\"vamshee.a@gmail.com\",\"avrao.a@gmail.com\",\"sai.r@gmail.com\",\"akku.m@gmail.com\"],\n",
    "        \"mobile number\" : [12,34,56,78,90,91],\n",
    "        \"address\" : [\"hyd\",\"hyd\",\"hyd\",\"hyd\",\"hyd\",\"hyd\"] }\n",
    "b = pd.DataFrame(dict)\n",
    "print(b)       "
   ]
  },
  {
   "cell_type": "code",
   "execution_count": null,
   "metadata": {},
   "outputs": [],
   "source": [
    "  "
   ]
  },
  {
   "cell_type": "code",
   "execution_count": null,
   "metadata": {},
   "outputs": [],
   "source": []
  }
 ],
 "metadata": {
  "kernelspec": {
   "display_name": "Python 3",
   "language": "python",
   "name": "python3"
  },
  "language_info": {
   "codemirror_mode": {
    "name": "ipython",
    "version": 3
   },
   "file_extension": ".py",
   "mimetype": "text/x-python",
   "name": "python",
   "nbconvert_exporter": "python",
   "pygments_lexer": "ipython3",
   "version": "3.7.1"
  }
 },
 "nbformat": 4,
 "nbformat_minor": 2
}
